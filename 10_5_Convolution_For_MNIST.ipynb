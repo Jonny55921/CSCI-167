{
  "nbformat": 4,
  "nbformat_minor": 0,
  "metadata": {
    "colab": {
      "provenance": [],
      "include_colab_link": true
    },
    "kernelspec": {
      "name": "python3",
      "display_name": "Python 3"
    },
    "language_info": {
      "name": "python"
    }
  },
  "cells": [
    {
      "cell_type": "markdown",
      "metadata": {
        "id": "view-in-github",
        "colab_type": "text"
      },
      "source": [
        "<a href=\"https://colab.research.google.com/github/Jonny55921/CSCI-167/blob/main/10_5_Convolution_For_MNIST.ipynb\" target=\"_parent\"><img src=\"https://colab.research.google.com/assets/colab-badge.svg\" alt=\"Open In Colab\"/></a>"
      ]
    },
    {
      "cell_type": "markdown",
      "source": [
        "# **Notebook 10.5: Convolution for MNIST**\n",
        "\n",
        "This notebook builds a proper network for 2D convolution.  It works with the MNIST dataset (figure 15.15a), which was the original classic dataset for classifying images.  The network will take a 28x28 grayscale image and classify it into one of 10 classes representing a digit.\n",
        "\n",
        "The code is adapted from https://nextjournal.com/gkoehler/pytorch-mnist\n",
        "\n",
        "Work through the cells below, running each cell in turn. In various places you will see the words \"TO DO\". Follow the instructions at these places and make predictions about what is going to happen or write code to complete the functions.\n",
        "\n",
        "Contact me at udlbookmail@gmail.com if you find any mistakes or have any suggestions.\n"
      ],
      "metadata": {
        "id": "t9vk9Elugvmi"
      }
    },
    {
      "cell_type": "code",
      "source": [
        "import torch\n",
        "import torchvision\n",
        "import torch.nn as nn\n",
        "import torch.nn.functional as F\n",
        "import torch.optim as optim\n",
        "import matplotlib.pyplot as plt\n",
        "import random"
      ],
      "metadata": {
        "id": "YrXWAH7sUWvU"
      },
      "execution_count": 1,
      "outputs": []
    },
    {
      "cell_type": "code",
      "source": [
        "# Run this once to load the train and test data straight into a dataloader class\n",
        "# that will provide the batches\n",
        "\n",
        "# (It may complain that some files are missing because the files seem to have been\n",
        "# reorganized on the underlying website, but it still seems to work). If everything is working\n",
        "# properly, then the whole notebook should run to the end without further problems\n",
        "# even before you make changes.\n",
        "batch_size_train = 64\n",
        "batch_size_test = 1000\n",
        "\n",
        "# TODO Change this directory to point towards an existing directory\n",
        "myDir = '/files/'\n",
        "\n",
        "train_loader = torch.utils.data.DataLoader(\n",
        "  torchvision.datasets.MNIST(myDir, train=True, download=True,\n",
        "                             transform=torchvision.transforms.Compose([\n",
        "                               torchvision.transforms.ToTensor(),\n",
        "                               torchvision.transforms.Normalize(\n",
        "                                 (0.1307,), (0.3081,))\n",
        "                             ])),\n",
        "  batch_size=batch_size_train, shuffle=True)\n",
        "\n",
        "test_loader = torch.utils.data.DataLoader(\n",
        "  torchvision.datasets.MNIST(myDir, train=False, download=True,\n",
        "                             transform=torchvision.transforms.Compose([\n",
        "                               torchvision.transforms.ToTensor(),\n",
        "                               torchvision.transforms.Normalize(\n",
        "                                 (0.1307,), (0.3081,))\n",
        "                             ])),\n",
        "  batch_size=batch_size_test, shuffle=True)"
      ],
      "metadata": {
        "id": "wScBGXXFVadm",
        "colab": {
          "base_uri": "https://localhost:8080/"
        },
        "outputId": "326e3cb3-7335-4dec-9fa0-2520990a380f"
      },
      "execution_count": 2,
      "outputs": [
        {
          "output_type": "stream",
          "name": "stdout",
          "text": [
            "Downloading http://yann.lecun.com/exdb/mnist/train-images-idx3-ubyte.gz\n",
            "Failed to download (trying next):\n",
            "<urlopen error [SSL: CERTIFICATE_VERIFY_FAILED] certificate verify failed: certificate has expired (_ssl.c:1007)>\n",
            "\n",
            "Downloading https://ossci-datasets.s3.amazonaws.com/mnist/train-images-idx3-ubyte.gz\n",
            "Downloading https://ossci-datasets.s3.amazonaws.com/mnist/train-images-idx3-ubyte.gz to /files/MNIST/raw/train-images-idx3-ubyte.gz\n"
          ]
        },
        {
          "output_type": "stream",
          "name": "stderr",
          "text": [
            "100%|██████████| 9.91M/9.91M [00:01<00:00, 5.27MB/s]\n"
          ]
        },
        {
          "output_type": "stream",
          "name": "stdout",
          "text": [
            "Extracting /files/MNIST/raw/train-images-idx3-ubyte.gz to /files/MNIST/raw\n",
            "\n",
            "Downloading http://yann.lecun.com/exdb/mnist/train-labels-idx1-ubyte.gz\n",
            "Failed to download (trying next):\n",
            "<urlopen error [SSL: CERTIFICATE_VERIFY_FAILED] certificate verify failed: certificate has expired (_ssl.c:1007)>\n",
            "\n",
            "Downloading https://ossci-datasets.s3.amazonaws.com/mnist/train-labels-idx1-ubyte.gz\n",
            "Downloading https://ossci-datasets.s3.amazonaws.com/mnist/train-labels-idx1-ubyte.gz to /files/MNIST/raw/train-labels-idx1-ubyte.gz\n"
          ]
        },
        {
          "output_type": "stream",
          "name": "stderr",
          "text": [
            "100%|██████████| 28.9k/28.9k [00:00<00:00, 153kB/s]\n"
          ]
        },
        {
          "output_type": "stream",
          "name": "stdout",
          "text": [
            "Extracting /files/MNIST/raw/train-labels-idx1-ubyte.gz to /files/MNIST/raw\n",
            "\n",
            "Downloading http://yann.lecun.com/exdb/mnist/t10k-images-idx3-ubyte.gz\n",
            "Failed to download (trying next):\n",
            "<urlopen error [SSL: CERTIFICATE_VERIFY_FAILED] certificate verify failed: certificate has expired (_ssl.c:1007)>\n",
            "\n",
            "Downloading https://ossci-datasets.s3.amazonaws.com/mnist/t10k-images-idx3-ubyte.gz\n",
            "Downloading https://ossci-datasets.s3.amazonaws.com/mnist/t10k-images-idx3-ubyte.gz to /files/MNIST/raw/t10k-images-idx3-ubyte.gz\n"
          ]
        },
        {
          "output_type": "stream",
          "name": "stderr",
          "text": [
            "100%|██████████| 1.65M/1.65M [00:01<00:00, 1.47MB/s]\n"
          ]
        },
        {
          "output_type": "stream",
          "name": "stdout",
          "text": [
            "Extracting /files/MNIST/raw/t10k-images-idx3-ubyte.gz to /files/MNIST/raw\n",
            "\n",
            "Downloading http://yann.lecun.com/exdb/mnist/t10k-labels-idx1-ubyte.gz\n",
            "Failed to download (trying next):\n",
            "<urlopen error [SSL: CERTIFICATE_VERIFY_FAILED] certificate verify failed: certificate has expired (_ssl.c:1007)>\n",
            "\n",
            "Downloading https://ossci-datasets.s3.amazonaws.com/mnist/t10k-labels-idx1-ubyte.gz\n",
            "Downloading https://ossci-datasets.s3.amazonaws.com/mnist/t10k-labels-idx1-ubyte.gz to /files/MNIST/raw/t10k-labels-idx1-ubyte.gz\n"
          ]
        },
        {
          "output_type": "stream",
          "name": "stderr",
          "text": [
            "100%|██████████| 4.54k/4.54k [00:00<00:00, 2.78MB/s]\n"
          ]
        },
        {
          "output_type": "stream",
          "name": "stdout",
          "text": [
            "Extracting /files/MNIST/raw/t10k-labels-idx1-ubyte.gz to /files/MNIST/raw\n",
            "\n"
          ]
        }
      ]
    },
    {
      "cell_type": "code",
      "source": [
        "# Let's draw some of the training data\n",
        "examples = enumerate(test_loader)\n",
        "batch_idx, (example_data, example_targets) = next(examples)\n",
        "\n",
        "fig = plt.figure()\n",
        "for i in range(6):\n",
        "  plt.subplot(2,3,i+1)\n",
        "  plt.tight_layout()\n",
        "  plt.imshow(example_data[i][0], cmap='gray', interpolation='none')\n",
        "  plt.title(\"Ground Truth: {}\".format(example_targets[i]))\n",
        "  plt.xticks([])\n",
        "  plt.yticks([])\n",
        "plt.show()"
      ],
      "metadata": {
        "id": "8bKADvLHbiV5",
        "colab": {
          "base_uri": "https://localhost:8080/",
          "height": 438
        },
        "outputId": "ca719738-5348-4571-b05e-166ff3c48872"
      },
      "execution_count": 3,
      "outputs": [
        {
          "output_type": "display_data",
          "data": {
            "text/plain": [
              "<Figure size 640x480 with 6 Axes>"
            ],
            "image/png": "[encoded data removed]"
          },
          "metadata": {}
        }
      ]
    },
    {
      "cell_type": "markdown",
      "source": [
        "Define the network.  This is a more typical way to define a network than the sequential structure.  We define a class for the network, and define the parameters in the constructor.  Then we use a function called forward to actually run the network.  It's easy to see how you might use residual connections in this format."
      ],
      "metadata": {
        "id": "_sFvRDGrl4qe"
      }
    },
    {
      "cell_type": "code",
      "source": [
        "from os import X_OK\n",
        "# TODO Change this class to implement\n",
        "# 1. A valid convolution with kernel size 5, 1 input channel and 10 output channels\n",
        "# 2. A max pooling operation over a 2x2 area\n",
        "# 3. A Relu\n",
        "# 4. A valid convolution with kernel size 5, 10 input channels and 20 output channels\n",
        "# 5. A 2D Dropout layer\n",
        "# 6. A max pooling operation over a 2x2 area\n",
        "# 7. A relu\n",
        "# 8. A flattening operation\n",
        "# 9. A fully connected layer mapping from (whatever dimensions we are at-- find out using .shape) to 50\n",
        "# 10. A ReLU\n",
        "# 11. A fully connected layer mapping from 50 to 10 dimensions\n",
        "# 12. A softmax function.\n",
        "\n",
        "# Replace this class which implements a minimal network (which still does okay)\n",
        "class Net(nn.Module):\n",
        "    def __init__(self):\n",
        "        super(Net, self).__init__()\n",
        "        # Valid convolution, 1 channel in, 2 channels out, stride 1, kernel size = 3\n",
        "        self.conv1 = nn.Conv2d(1, 2, kernel_size=3)\n",
        "        # Dropout for convolutions\n",
        "        self.drop = nn.Dropout2d()\n",
        "        # Fully connected layer\n",
        "        self.fc1 = nn.Linear(338, 10)\n",
        "\n",
        "    def forward(self, x):\n",
        "        x = self.conv1(x)\n",
        "        x = self.drop(x)\n",
        "        x = F.max_pool2d(x,2)\n",
        "        x = F.relu(x)\n",
        "        x = x.flatten(1)\n",
        "        x = self.fc1(x)\n",
        "        x = F.log_softmax(x)\n",
        "        return x\n",
        "\n",
        "\n",
        "\n",
        "\n"
      ],
      "metadata": {
        "id": "EQkvw2KOPVl7"
      },
      "execution_count": 4,
      "outputs": []
    },
    {
      "cell_type": "code",
      "source": [
        "from os import X_OK\n",
        "# TODO Change this class to implement\n",
        "# 1. A valid convolution with kernel size 5, 1 input channel and 10 output channels\n",
        "# 2. A max pooling operation over a 2x2 area\n",
        "# 3. A Relu\n",
        "# 4. A valid convolution with kernel size 5, 10 input channels and 20 output channels\n",
        "# 5. A 2D Dropout layer\n",
        "# 6. A max pooling operation over a 2x2 area\n",
        "# 7. A relu\n",
        "# 8. A flattening operation\n",
        "# 9. A fully connected layer mapping from (whatever dimensions we are at-- find out using .shape) to 50\n",
        "# 10. A ReLU\n",
        "# 11. A fully connected layer mapping from 50 to 10 dimensions\n",
        "# 12. A softmax function.\n",
        "\n",
        "# Replace this class which implements a minimal network (which still does okay)\n",
        "class Net(nn.Module):\n",
        "    def __init__(self):\n",
        "        super(Net, self).__init__()\n",
        "    # 1. A valid convolution with kernel size 5, 1 input channel and 10 output channels\n",
        "        self.conv1 = nn.Conv2d(1, 10, kernel_size=5)\n",
        "    # 2. A max pooling operation over a 2x2 area\n",
        "        self.pool1 = nn.MaxPool2d(2)\n",
        "        # 3. A Relu\n",
        "        self.relu1 = nn.ReLU()\n",
        "        # 4. A valid convolution with kernel size 5, 10 input channels and 20 output channels\n",
        "        self.conv2 = nn.Conv2d(10, 20, kernel_size=5)\n",
        "        # 5. A 2D Dropout layer\n",
        "        self.drop = nn.Dropout2d()\n",
        "        # 6. A max pooling operation over a 2x2 area\n",
        "        self.pool2 = nn.MaxPool2d(2)\n",
        "        # 7. A relu\n",
        "        self.relu2 = nn.ReLU()\n",
        "        # 8. A flattening operation\n",
        "\n",
        "        # 9. A fully connected layer mapping from (whatever dimensions we are at-- find out using .shape) to 50\n",
        "        self.fc1 = nn.Linear(320, 50)  # Assuming input size 320 after flattening\n",
        "        # 10. A ReLU\n",
        "        self.relu3 = nn.ReLU()\n",
        "        # 11. A fully connected layer mapping from 50 to 10 dimensions\n",
        "        self.fc2 = nn.Linear(50, 10)\n",
        "        # 12. A softmax function.\n",
        "        self.log_softmax = nn.LogSoftmax(dim=1)  # LogSoftmax for NLLLoss\n",
        "\n",
        "    def forward(self, x):\n",
        "        x = self.conv1(x)\n",
        "        x = self.pool1(x)\n",
        "        x = self.relu1(x)\n",
        "        x = self.conv2(x)\n",
        "        x = self.drop(x)\n",
        "        x = self.pool2(x)\n",
        "        x = self.relu2(x)\n",
        "        x = x.view(x.size(0), -1)  # Flattening\n",
        "        x = self.fc1(x)\n",
        "        x = self.relu3(x)\n",
        "        x = self.fc2(x)\n",
        "        x = self.log_softmax(x)  # Apply LogSoftmax\n",
        "        return x\n",
        "\n",
        "\n",
        "\n",
        "\n"
      ],
      "metadata": {
        "id": "hiU7n-gejeWn"
      },
      "execution_count": 12,
      "outputs": []
    },
    {
      "cell_type": "code",
      "source": [
        "# He initialization of weights\n",
        "def weights_init(layer_in):\n",
        "  if isinstance(layer_in, nn.Linear):\n",
        "    nn.init.kaiming_uniform_(layer_in.weight)\n",
        "    layer_in.bias.data.fill_(0.0)"
      ],
      "metadata": {
        "id": "qWZtkCZcU_dg"
      },
      "execution_count": 13,
      "outputs": []
    },
    {
      "cell_type": "code",
      "source": [
        "# Create network\n",
        "model = Net()\n",
        "# Initialize model weights\n",
        "model.apply(weights_init)\n",
        "# Define optimizer\n",
        "optimizer = optim.SGD(model.parameters(), lr=0.01, momentum=0.5)"
      ],
      "metadata": {
        "id": "FslroPJJffrh"
      },
      "execution_count": 14,
      "outputs": []
    },
    {
      "cell_type": "code",
      "source": [
        "# Main training routine\n",
        "def train(epoch):\n",
        "  model.train()\n",
        "  # Get each\n",
        "  for batch_idx, (data, target) in enumerate(train_loader):\n",
        "    optimizer.zero_grad()\n",
        "    output = model(data)\n",
        "    loss = F.nll_loss(output, target)\n",
        "    loss.backward()\n",
        "    optimizer.step()\n",
        "    # Store results\n",
        "    if batch_idx % 10 == 0:\n",
        "      print('Train Epoch: {} [{}/{}]\\tLoss: {:.6f}'.format(\n",
        "        epoch, batch_idx * len(data), len(train_loader.dataset), loss.item()))"
      ],
      "metadata": {
        "id": "xKQd9PzkQ766"
      },
      "execution_count": 15,
      "outputs": []
    },
    {
      "cell_type": "code",
      "source": [
        "# Run on test data\n",
        "def test():\n",
        "  model.eval()\n",
        "  test_loss = 0\n",
        "  correct = 0\n",
        "  with torch.no_grad():\n",
        "    for data, target in test_loader:\n",
        "      output = model(data)\n",
        "      test_loss += F.nll_loss(output, target, size_average=False).item()\n",
        "      pred = output.data.max(1, keepdim=True)[1]\n",
        "      correct += pred.eq(target.data.view_as(pred)).sum()\n",
        "  test_loss /= len(test_loader.dataset)\n",
        "  print('\\nTest set: Avg. loss: {:.4f}, Accuracy: {}/{} ({:.0f}%)\\n'.format(\n",
        "    test_loss, correct, len(test_loader.dataset),\n",
        "    100. * correct / len(test_loader.dataset)))"
      ],
      "metadata": {
        "id": "Byn-f7qWRLxX"
      },
      "execution_count": 16,
      "outputs": []
    },
    {
      "cell_type": "code",
      "source": [
        "# Get initial performance\n",
        "test()\n",
        "# Train for three epochs\n",
        "n_epochs = 3\n",
        "for epoch in range(1, n_epochs + 1):\n",
        "  train(epoch)\n",
        "  test()"
      ],
      "metadata": {
        "id": "YgLaex1pfhqz",
        "colab": {
          "base_uri": "https://localhost:8080/"
        },
        "outputId": "e71743f7-f24f-406d-b862-f82a46860899"
      },
      "execution_count": 17,
      "outputs": [
        {
          "output_type": "stream",
          "name": "stdout",
          "text": [
            "\n",
            "Test set: Avg. loss: 2.5636, Accuracy: 1063/10000 (11%)\n",
            "\n",
            "Train Epoch: 1 [0/60000]\tLoss: 2.752584\n",
            "Train Epoch: 1 [640/60000]\tLoss: 2.242949\n",
            "Train Epoch: 1 [1280/60000]\tLoss: 2.242316\n",
            "Train Epoch: 1 [1920/60000]\tLoss: 2.125365\n",
            "Train Epoch: 1 [2560/60000]\tLoss: 2.000528\n",
            "Train Epoch: 1 [3200/60000]\tLoss: 1.955947\n",
            "Train Epoch: 1 [3840/60000]\tLoss: 1.921602\n",
            "Train Epoch: 1 [4480/60000]\tLoss: 1.626645\n",
            "Train Epoch: 1 [5120/60000]\tLoss: 1.515687\n",
            "Train Epoch: 1 [5760/60000]\tLoss: 1.480381\n",
            "Train Epoch: 1 [6400/60000]\tLoss: 0.997248\n",
            "Train Epoch: 1 [7040/60000]\tLoss: 1.134544\n",
            "Train Epoch: 1 [7680/60000]\tLoss: 1.029235\n",
            "Train Epoch: 1 [8320/60000]\tLoss: 0.980076\n",
            "Train Epoch: 1 [8960/60000]\tLoss: 0.691520\n",
            "Train Epoch: 1 [9600/60000]\tLoss: 0.672920\n",
            "Train Epoch: 1 [10240/60000]\tLoss: 0.804285\n",
            "Train Epoch: 1 [10880/60000]\tLoss: 0.914341\n",
            "Train Epoch: 1 [11520/60000]\tLoss: 0.621758\n",
            "Train Epoch: 1 [12160/60000]\tLoss: 0.583866\n",
            "Train Epoch: 1 [12800/60000]\tLoss: 0.632003\n",
            "Train Epoch: 1 [13440/60000]\tLoss: 0.760921\n",
            "Train Epoch: 1 [14080/60000]\tLoss: 0.657045\n",
            "Train Epoch: 1 [14720/60000]\tLoss: 0.538407\n",
            "Train Epoch: 1 [15360/60000]\tLoss: 0.622860\n",
            "Train Epoch: 1 [16000/60000]\tLoss: 0.377073\n",
            "Train Epoch: 1 [16640/60000]\tLoss: 0.553606\n",
            "Train Epoch: 1 [17280/60000]\tLoss: 0.454590\n",
            "Train Epoch: 1 [17920/60000]\tLoss: 0.417980\n",
            "Train Epoch: 1 [18560/60000]\tLoss: 0.529324\n",
            "Train Epoch: 1 [19200/60000]\tLoss: 0.360473\n",
            "Train Epoch: 1 [19840/60000]\tLoss: 0.537260\n",
            "Train Epoch: 1 [20480/60000]\tLoss: 0.497549\n",
            "Train Epoch: 1 [21120/60000]\tLoss: 0.350438\n",
            "Train Epoch: 1 [21760/60000]\tLoss: 0.489658\n",
            "Train Epoch: 1 [22400/60000]\tLoss: 0.392180\n",
            "Train Epoch: 1 [23040/60000]\tLoss: 0.375494\n",
            "Train Epoch: 1 [23680/60000]\tLoss: 0.495476\n",
            "Train Epoch: 1 [24320/60000]\tLoss: 0.631353\n",
            "Train Epoch: 1 [24960/60000]\tLoss: 0.480417\n",
            "Train Epoch: 1 [25600/60000]\tLoss: 0.309357\n",
            "Train Epoch: 1 [26240/60000]\tLoss: 0.362450\n",
            "Train Epoch: 1 [26880/60000]\tLoss: 0.532618\n",
            "Train Epoch: 1 [27520/60000]\tLoss: 0.330184\n",
            "Train Epoch: 1 [28160/60000]\tLoss: 0.402244\n",
            "Train Epoch: 1 [28800/60000]\tLoss: 0.240540\n",
            "Train Epoch: 1 [29440/60000]\tLoss: 0.462687\n",
            "Train Epoch: 1 [30080/60000]\tLoss: 0.444323\n",
            "Train Epoch: 1 [30720/60000]\tLoss: 0.408075\n",
            "Train Epoch: 1 [31360/60000]\tLoss: 0.540427\n",
            "Train Epoch: 1 [32000/60000]\tLoss: 0.308080\n",
            "Train Epoch: 1 [32640/60000]\tLoss: 0.539500\n",
            "Train Epoch: 1 [33280/60000]\tLoss: 0.199449\n",
            "Train Epoch: 1 [33920/60000]\tLoss: 0.246826\n",
            "Train Epoch: 1 [34560/60000]\tLoss: 0.415815\n",
            "Train Epoch: 1 [35200/60000]\tLoss: 0.326203\n",
            "Train Epoch: 1 [35840/60000]\tLoss: 0.405643\n",
            "Train Epoch: 1 [36480/60000]\tLoss: 0.389092\n",
            "Train Epoch: 1 [37120/60000]\tLoss: 0.330042\n",
            "Train Epoch: 1 [37760/60000]\tLoss: 0.328024\n",
            "Train Epoch: 1 [38400/60000]\tLoss: 0.501324\n",
            "Train Epoch: 1 [39040/60000]\tLoss: 0.453942\n",
            "Train Epoch: 1 [39680/60000]\tLoss: 0.228490\n",
            "Train Epoch: 1 [40320/60000]\tLoss: 0.162404\n",
            "Train Epoch: 1 [40960/60000]\tLoss: 0.342770\n",
            "Train Epoch: 1 [41600/60000]\tLoss: 0.493839\n",
            "Train Epoch: 1 [42240/60000]\tLoss: 0.449465\n",
            "Train Epoch: 1 [42880/60000]\tLoss: 0.298984\n",
            "Train Epoch: 1 [43520/60000]\tLoss: 0.361642\n",
            "Train Epoch: 1 [44160/60000]\tLoss: 0.284449\n",
            "Train Epoch: 1 [44800/60000]\tLoss: 0.193288\n",
            "Train Epoch: 1 [45440/60000]\tLoss: 0.139518\n",
            "Train Epoch: 1 [46080/60000]\tLoss: 0.523103\n",
            "Train Epoch: 1 [46720/60000]\tLoss: 0.292054\n",
            "Train Epoch: 1 [47360/60000]\tLoss: 0.221584\n",
            "Train Epoch: 1 [48000/60000]\tLoss: 0.228235\n",
            "Train Epoch: 1 [48640/60000]\tLoss: 0.227929\n",
            "Train Epoch: 1 [49280/60000]\tLoss: 0.350779\n",
            "Train Epoch: 1 [49920/60000]\tLoss: 0.366917\n",
            "Train Epoch: 1 [50560/60000]\tLoss: 0.241734\n",
            "Train Epoch: 1 [51200/60000]\tLoss: 0.533179\n",
            "Train Epoch: 1 [51840/60000]\tLoss: 0.423772\n",
            "Train Epoch: 1 [52480/60000]\tLoss: 0.268119\n",
            "Train Epoch: 1 [53120/60000]\tLoss: 0.368481\n",
            "Train Epoch: 1 [53760/60000]\tLoss: 0.315272\n",
            "Train Epoch: 1 [54400/60000]\tLoss: 0.230118\n",
            "Train Epoch: 1 [55040/60000]\tLoss: 0.416290\n",
            "Train Epoch: 1 [55680/60000]\tLoss: 0.196140\n",
            "Train Epoch: 1 [56320/60000]\tLoss: 0.228179\n",
            "Train Epoch: 1 [56960/60000]\tLoss: 0.448855\n",
            "Train Epoch: 1 [57600/60000]\tLoss: 0.257556\n",
            "Train Epoch: 1 [58240/60000]\tLoss: 0.291389\n",
            "Train Epoch: 1 [58880/60000]\tLoss: 0.157925\n",
            "Train Epoch: 1 [59520/60000]\tLoss: 0.236828\n",
            "\n",
            "Test set: Avg. loss: 0.1229, Accuracy: 9623/10000 (96%)\n",
            "\n",
            "Train Epoch: 2 [0/60000]\tLoss: 0.454238\n",
            "Train Epoch: 2 [640/60000]\tLoss: 0.287217\n",
            "Train Epoch: 2 [1280/60000]\tLoss: 0.153500\n",
            "Train Epoch: 2 [1920/60000]\tLoss: 0.170964\n",
            "Train Epoch: 2 [2560/60000]\tLoss: 0.234865\n",
            "Train Epoch: 2 [3200/60000]\tLoss: 0.246565\n",
            "Train Epoch: 2 [3840/60000]\tLoss: 0.151431\n",
            "Train Epoch: 2 [4480/60000]\tLoss: 0.208681\n",
            "Train Epoch: 2 [5120/60000]\tLoss: 0.201788\n",
            "Train Epoch: 2 [5760/60000]\tLoss: 0.247523\n",
            "Train Epoch: 2 [6400/60000]\tLoss: 0.220316\n",
            "Train Epoch: 2 [7040/60000]\tLoss: 0.292197\n",
            "Train Epoch: 2 [7680/60000]\tLoss: 0.177260\n",
            "Train Epoch: 2 [8320/60000]\tLoss: 0.363581\n",
            "Train Epoch: 2 [8960/60000]\tLoss: 0.174122\n",
            "Train Epoch: 2 [9600/60000]\tLoss: 0.166017\n",
            "Train Epoch: 2 [10240/60000]\tLoss: 0.286913\n",
            "Train Epoch: 2 [10880/60000]\tLoss: 0.330967\n",
            "Train Epoch: 2 [11520/60000]\tLoss: 0.101423\n",
            "Train Epoch: 2 [12160/60000]\tLoss: 0.215848\n",
            "Train Epoch: 2 [12800/60000]\tLoss: 0.199477\n",
            "Train Epoch: 2 [13440/60000]\tLoss: 0.319069\n",
            "Train Epoch: 2 [14080/60000]\tLoss: 0.124250\n",
            "Train Epoch: 2 [14720/60000]\tLoss: 0.190821\n",
            "Train Epoch: 2 [15360/60000]\tLoss: 0.400248\n",
            "Train Epoch: 2 [16000/60000]\tLoss: 0.461644\n",
            "Train Epoch: 2 [16640/60000]\tLoss: 0.114502\n",
            "Train Epoch: 2 [17280/60000]\tLoss: 0.190288\n",
            "Train Epoch: 2 [17920/60000]\tLoss: 0.195918\n",
            "Train Epoch: 2 [18560/60000]\tLoss: 0.147910\n",
            "Train Epoch: 2 [19200/60000]\tLoss: 0.159502\n",
            "Train Epoch: 2 [19840/60000]\tLoss: 0.102360\n",
            "Train Epoch: 2 [20480/60000]\tLoss: 0.302887\n",
            "Train Epoch: 2 [21120/60000]\tLoss: 0.304157\n",
            "Train Epoch: 2 [21760/60000]\tLoss: 0.327667\n",
            "Train Epoch: 2 [22400/60000]\tLoss: 0.046836\n",
            "Train Epoch: 2 [23040/60000]\tLoss: 0.274694\n",
            "Train Epoch: 2 [23680/60000]\tLoss: 0.308224\n",
            "Train Epoch: 2 [24320/60000]\tLoss: 0.170966\n",
            "Train Epoch: 2 [24960/60000]\tLoss: 0.111349\n",
            "Train Epoch: 2 [25600/60000]\tLoss: 0.212329\n",
            "Train Epoch: 2 [26240/60000]\tLoss: 0.199112\n",
            "Train Epoch: 2 [26880/60000]\tLoss: 0.110453\n",
            "Train Epoch: 2 [27520/60000]\tLoss: 0.159135\n",
            "Train Epoch: 2 [28160/60000]\tLoss: 0.088379\n",
            "Train Epoch: 2 [28800/60000]\tLoss: 0.165712\n",
            "Train Epoch: 2 [29440/60000]\tLoss: 0.116715\n",
            "Train Epoch: 2 [30080/60000]\tLoss: 0.365494\n",
            "Train Epoch: 2 [30720/60000]\tLoss: 0.293757\n",
            "Train Epoch: 2 [31360/60000]\tLoss: 0.176294\n",
            "Train Epoch: 2 [32000/60000]\tLoss: 0.152923\n",
            "Train Epoch: 2 [32640/60000]\tLoss: 0.191358\n",
            "Train Epoch: 2 [33280/60000]\tLoss: 0.176724\n",
            "Train Epoch: 2 [33920/60000]\tLoss: 0.262519\n",
            "Train Epoch: 2 [34560/60000]\tLoss: 0.261005\n",
            "Train Epoch: 2 [35200/60000]\tLoss: 0.086675\n",
            "Train Epoch: 2 [35840/60000]\tLoss: 0.210883\n",
            "Train Epoch: 2 [36480/60000]\tLoss: 0.308058\n",
            "Train Epoch: 2 [37120/60000]\tLoss: 0.122077\n",
            "Train Epoch: 2 [37760/60000]\tLoss: 0.081634\n",
            "Train Epoch: 2 [38400/60000]\tLoss: 0.211597\n",
            "Train Epoch: 2 [39040/60000]\tLoss: 0.200294\n",
            "Train Epoch: 2 [39680/60000]\tLoss: 0.349456\n",
            "Train Epoch: 2 [40320/60000]\tLoss: 0.241031\n",
            "Train Epoch: 2 [40960/60000]\tLoss: 0.150312\n",
            "Train Epoch: 2 [41600/60000]\tLoss: 0.255259\n",
            "Train Epoch: 2 [42240/60000]\tLoss: 0.113566\n",
            "Train Epoch: 2 [42880/60000]\tLoss: 0.183921\n",
            "Train Epoch: 2 [43520/60000]\tLoss: 0.300366\n",
            "Train Epoch: 2 [44160/60000]\tLoss: 0.159819\n",
            "Train Epoch: 2 [44800/60000]\tLoss: 0.093757\n",
            "Train Epoch: 2 [45440/60000]\tLoss: 0.332870\n",
            "Train Epoch: 2 [46080/60000]\tLoss: 0.144182\n",
            "Train Epoch: 2 [46720/60000]\tLoss: 0.224653\n",
            "Train Epoch: 2 [47360/60000]\tLoss: 0.189571\n",
            "Train Epoch: 2 [48000/60000]\tLoss: 0.269677\n",
            "Train Epoch: 2 [48640/60000]\tLoss: 0.244754\n",
            "Train Epoch: 2 [49280/60000]\tLoss: 0.129458\n",
            "Train Epoch: 2 [49920/60000]\tLoss: 0.188760\n",
            "Train Epoch: 2 [50560/60000]\tLoss: 0.183206\n",
            "Train Epoch: 2 [51200/60000]\tLoss: 0.261204\n",
            "Train Epoch: 2 [51840/60000]\tLoss: 0.229200\n",
            "Train Epoch: 2 [52480/60000]\tLoss: 0.187666\n",
            "Train Epoch: 2 [53120/60000]\tLoss: 0.196260\n",
            "Train Epoch: 2 [53760/60000]\tLoss: 0.148066\n",
            "Train Epoch: 2 [54400/60000]\tLoss: 0.290998\n",
            "Train Epoch: 2 [55040/60000]\tLoss: 0.145806\n",
            "Train Epoch: 2 [55680/60000]\tLoss: 0.064736\n",
            "Train Epoch: 2 [56320/60000]\tLoss: 0.176427\n",
            "Train Epoch: 2 [56960/60000]\tLoss: 0.354086\n",
            "Train Epoch: 2 [57600/60000]\tLoss: 0.083084\n",
            "Train Epoch: 2 [58240/60000]\tLoss: 0.106642\n",
            "Train Epoch: 2 [58880/60000]\tLoss: 0.482506\n",
            "Train Epoch: 2 [59520/60000]\tLoss: 0.268971\n",
            "\n",
            "Test set: Avg. loss: 0.0852, Accuracy: 9715/10000 (97%)\n",
            "\n",
            "Train Epoch: 3 [0/60000]\tLoss: 0.135481\n",
            "Train Epoch: 3 [640/60000]\tLoss: 0.193664\n",
            "Train Epoch: 3 [1280/60000]\tLoss: 0.127795\n",
            "Train Epoch: 3 [1920/60000]\tLoss: 0.254610\n",
            "Train Epoch: 3 [2560/60000]\tLoss: 0.209204\n",
            "Train Epoch: 3 [3200/60000]\tLoss: 0.133441\n",
            "Train Epoch: 3 [3840/60000]\tLoss: 0.143341\n",
            "Train Epoch: 3 [4480/60000]\tLoss: 0.190308\n",
            "Train Epoch: 3 [5120/60000]\tLoss: 0.165018\n",
            "Train Epoch: 3 [5760/60000]\tLoss: 0.219819\n",
            "Train Epoch: 3 [6400/60000]\tLoss: 0.112528\n",
            "Train Epoch: 3 [7040/60000]\tLoss: 0.186891\n",
            "Train Epoch: 3 [7680/60000]\tLoss: 0.061013\n",
            "Train Epoch: 3 [8320/60000]\tLoss: 0.039707\n",
            "Train Epoch: 3 [8960/60000]\tLoss: 0.111632\n",
            "Train Epoch: 3 [9600/60000]\tLoss: 0.136603\n",
            "Train Epoch: 3 [10240/60000]\tLoss: 0.174847\n",
            "Train Epoch: 3 [10880/60000]\tLoss: 0.087622\n",
            "Train Epoch: 3 [11520/60000]\tLoss: 0.141286\n",
            "Train Epoch: 3 [12160/60000]\tLoss: 0.361769\n",
            "Train Epoch: 3 [12800/60000]\tLoss: 0.146089\n",
            "Train Epoch: 3 [13440/60000]\tLoss: 0.063219\n",
            "Train Epoch: 3 [14080/60000]\tLoss: 0.168430\n",
            "Train Epoch: 3 [14720/60000]\tLoss: 0.171327\n",
            "Train Epoch: 3 [15360/60000]\tLoss: 0.071244\n",
            "Train Epoch: 3 [16000/60000]\tLoss: 0.171214\n",
            "Train Epoch: 3 [16640/60000]\tLoss: 0.256457\n",
            "Train Epoch: 3 [17280/60000]\tLoss: 0.034935\n",
            "Train Epoch: 3 [17920/60000]\tLoss: 0.238332\n",
            "Train Epoch: 3 [18560/60000]\tLoss: 0.123847\n",
            "Train Epoch: 3 [19200/60000]\tLoss: 0.192459\n",
            "Train Epoch: 3 [19840/60000]\tLoss: 0.151042\n",
            "Train Epoch: 3 [20480/60000]\tLoss: 0.182230\n",
            "Train Epoch: 3 [21120/60000]\tLoss: 0.156947\n",
            "Train Epoch: 3 [21760/60000]\tLoss: 0.065063\n",
            "Train Epoch: 3 [22400/60000]\tLoss: 0.165413\n",
            "Train Epoch: 3 [23040/60000]\tLoss: 0.121167\n",
            "Train Epoch: 3 [23680/60000]\tLoss: 0.204391\n",
            "Train Epoch: 3 [24320/60000]\tLoss: 0.162529\n",
            "Train Epoch: 3 [24960/60000]\tLoss: 0.276983\n",
            "Train Epoch: 3 [25600/60000]\tLoss: 0.199632\n",
            "Train Epoch: 3 [26240/60000]\tLoss: 0.067528\n",
            "Train Epoch: 3 [26880/60000]\tLoss: 0.229335\n",
            "Train Epoch: 3 [27520/60000]\tLoss: 0.066194\n",
            "Train Epoch: 3 [28160/60000]\tLoss: 0.303050\n",
            "Train Epoch: 3 [28800/60000]\tLoss: 0.099246\n",
            "Train Epoch: 3 [29440/60000]\tLoss: 0.128769\n",
            "Train Epoch: 3 [30080/60000]\tLoss: 0.273497\n",
            "Train Epoch: 3 [30720/60000]\tLoss: 0.214333\n",
            "Train Epoch: 3 [31360/60000]\tLoss: 0.213497\n",
            "Train Epoch: 3 [32000/60000]\tLoss: 0.350452\n",
            "Train Epoch: 3 [32640/60000]\tLoss: 0.041576\n",
            "Train Epoch: 3 [33280/60000]\tLoss: 0.074510\n",
            "Train Epoch: 3 [33920/60000]\tLoss: 0.121091\n",
            "Train Epoch: 3 [34560/60000]\tLoss: 0.163219\n",
            "Train Epoch: 3 [35200/60000]\tLoss: 0.183416\n",
            "Train Epoch: 3 [35840/60000]\tLoss: 0.169265\n",
            "Train Epoch: 3 [36480/60000]\tLoss: 0.140555\n",
            "Train Epoch: 3 [37120/60000]\tLoss: 0.100153\n",
            "Train Epoch: 3 [37760/60000]\tLoss: 0.192799\n",
            "Train Epoch: 3 [38400/60000]\tLoss: 0.212587\n",
            "Train Epoch: 3 [39040/60000]\tLoss: 0.099406\n",
            "Train Epoch: 3 [39680/60000]\tLoss: 0.083349\n",
            "Train Epoch: 3 [40320/60000]\tLoss: 0.074555\n",
            "Train Epoch: 3 [40960/60000]\tLoss: 0.203972\n",
            "Train Epoch: 3 [41600/60000]\tLoss: 0.158955\n",
            "Train Epoch: 3 [42240/60000]\tLoss: 0.172888\n",
            "Train Epoch: 3 [42880/60000]\tLoss: 0.117912\n",
            "Train Epoch: 3 [43520/60000]\tLoss: 0.134451\n",
            "Train Epoch: 3 [44160/60000]\tLoss: 0.121868\n",
            "Train Epoch: 3 [44800/60000]\tLoss: 0.071935\n",
            "Train Epoch: 3 [45440/60000]\tLoss: 0.087226\n",
            "Train Epoch: 3 [46080/60000]\tLoss: 0.145181\n",
            "Train Epoch: 3 [46720/60000]\tLoss: 0.190177\n",
            "Train Epoch: 3 [47360/60000]\tLoss: 0.118791\n",
            "Train Epoch: 3 [48000/60000]\tLoss: 0.264500\n",
            "Train Epoch: 3 [48640/60000]\tLoss: 0.092610\n",
            "Train Epoch: 3 [49280/60000]\tLoss: 0.245400\n",
            "Train Epoch: 3 [49920/60000]\tLoss: 0.166822\n",
            "Train Epoch: 3 [50560/60000]\tLoss: 0.113908\n",
            "Train Epoch: 3 [51200/60000]\tLoss: 0.057649\n",
            "Train Epoch: 3 [51840/60000]\tLoss: 0.159584\n",
            "Train Epoch: 3 [52480/60000]\tLoss: 0.111863\n",
            "Train Epoch: 3 [53120/60000]\tLoss: 0.151051\n",
            "Train Epoch: 3 [53760/60000]\tLoss: 0.024316\n",
            "Train Epoch: 3 [54400/60000]\tLoss: 0.251129\n",
            "Train Epoch: 3 [55040/60000]\tLoss: 0.204857\n",
            "Train Epoch: 3 [55680/60000]\tLoss: 0.098796\n",
            "Train Epoch: 3 [56320/60000]\tLoss: 0.037139\n",
            "Train Epoch: 3 [56960/60000]\tLoss: 0.414568\n",
            "Train Epoch: 3 [57600/60000]\tLoss: 0.121492\n",
            "Train Epoch: 3 [58240/60000]\tLoss: 0.124212\n",
            "Train Epoch: 3 [58880/60000]\tLoss: 0.158603\n",
            "Train Epoch: 3 [59520/60000]\tLoss: 0.141674\n",
            "\n",
            "Test set: Avg. loss: 0.0643, Accuracy: 9799/10000 (98%)\n",
            "\n"
          ]
        }
      ]
    },
    {
      "cell_type": "code",
      "source": [
        "# Run network on data we got before and show predictions\n",
        "output = model(example_data)\n",
        "\n",
        "fig = plt.figure()\n",
        "for i in range(10):\n",
        "  plt.subplot(5,5,i+1)\n",
        "  plt.tight_layout()\n",
        "  plt.imshow(example_data[i][0], cmap='gray', interpolation='none')\n",
        "  plt.title(\"Prediction: {}\".format(\n",
        "    output.data.max(1, keepdim=True)[1][i].item()))\n",
        "  plt.xticks([])\n",
        "  plt.yticks([])\n",
        "plt.show()"
      ],
      "metadata": {
        "id": "o7fRUAy9Se1B",
        "colab": {
          "base_uri": "https://localhost:8080/",
          "height": 207
        },
        "outputId": "f9c29a53-1475-451a-f91c-ffc57183d7e8"
      },
      "execution_count": 18,
      "outputs": [
        {
          "output_type": "display_data",
          "data": {
            "text/plain": [
              "<Figure size 640x480 with 10 Axes>"
            ],
            "image/png": "[encoded data removed]"
          },
          "metadata": {}
        }
      ]
    }
  ]
}