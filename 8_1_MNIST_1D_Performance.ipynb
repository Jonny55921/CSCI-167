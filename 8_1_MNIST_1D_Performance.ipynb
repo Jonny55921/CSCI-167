{
  "cells": [
    {
      "cell_type": "markdown",
      "metadata": {
        "id": "view-in-github",
        "colab_type": "text"
      },
      "source": [
        "<a href=\"https://colab.research.google.com/github/Jonny55921/CSCI-167/blob/main/8_1_MNIST_1D_Performance.ipynb\" target=\"_parent\"><img src=\"https://colab.research.google.com/assets/colab-badge.svg\" alt=\"Open In Colab\"/></a>"
      ]
    },
    {
      "cell_type": "markdown",
      "metadata": {
        "id": "L6chybAVFJW2"
      },
      "source": [
        "# **Notebook 8.1: MNIST_1D_Performance**\n",
        "\n",
        "This notebook runs a simple neural network on the MNIST1D dataset as in figure 8.2a. It uses code from https://github.com/greydanus/mnist1d to generate the data.\n",
        "\n",
        "Work through the cells below, running each cell in turn. In various places you will see the words \"TO DO\". Follow the instructions at these places and make predictions about what is going to happen or write code to complete the functions.\n",
        "\n",
        "Contact me at udlbookmail@gmail.com if you find any mistakes or have any suggestions."
      ]
    },
    {
      "cell_type": "code",
      "execution_count": 6,
      "metadata": {
        "id": "ifVjS4cTOqKz",
        "colab": {
          "base_uri": "https://localhost:8080/"
        },
        "outputId": "22b8f07d-e363-4056-a1dd-cd672ae9d3ab"
      },
      "outputs": [
        {
          "output_type": "stream",
          "name": "stdout",
          "text": [
            "Collecting git+https://github.com/greydanus/mnist1d\n",
            "  Cloning https://github.com/greydanus/mnist1d to /tmp/pip-req-build-nml99qdf\n",
            "  Running command git clone --filter=blob:none --quiet https://github.com/greydanus/mnist1d /tmp/pip-req-build-nml99qdf\n",
            "  Resolved https://github.com/greydanus/mnist1d to commit 68cb6b2d1d3a956cc2e9035e5a9860b66e33d642\n",
            "  Installing build dependencies ... \u001b[?25l\u001b[?25hdone\n",
            "  Getting requirements to build wheel ... \u001b[?25l\u001b[?25hdone\n",
            "  Preparing metadata (pyproject.toml) ... \u001b[?25l\u001b[?25hdone\n",
            "Requirement already satisfied: requests in /usr/local/lib/python3.10/dist-packages (from mnist1d==0.0.2.post15) (2.32.3)\n",
            "Requirement already satisfied: numpy in /usr/local/lib/python3.10/dist-packages (from mnist1d==0.0.2.post15) (1.26.4)\n",
            "Requirement already satisfied: matplotlib in /usr/local/lib/python3.10/dist-packages (from mnist1d==0.0.2.post15) (3.7.1)\n",
            "Requirement already satisfied: scipy in /usr/local/lib/python3.10/dist-packages (from mnist1d==0.0.2.post15) (1.13.1)\n",
            "Requirement already satisfied: contourpy>=1.0.1 in /usr/local/lib/python3.10/dist-packages (from matplotlib->mnist1d==0.0.2.post15) (1.3.0)\n",
            "Requirement already satisfied: cycler>=0.10 in /usr/local/lib/python3.10/dist-packages (from matplotlib->mnist1d==0.0.2.post15) (0.12.1)\n",
            "Requirement already satisfied: fonttools>=4.22.0 in /usr/local/lib/python3.10/dist-packages (from matplotlib->mnist1d==0.0.2.post15) (4.54.1)\n",
            "Requirement already satisfied: kiwisolver>=1.0.1 in /usr/local/lib/python3.10/dist-packages (from matplotlib->mnist1d==0.0.2.post15) (1.4.7)\n",
            "Requirement already satisfied: packaging>=20.0 in /usr/local/lib/python3.10/dist-packages (from matplotlib->mnist1d==0.0.2.post15) (24.1)\n",
            "Requirement already satisfied: pillow>=6.2.0 in /usr/local/lib/python3.10/dist-packages (from matplotlib->mnist1d==0.0.2.post15) (10.4.0)\n",
            "Requirement already satisfied: pyparsing>=2.3.1 in /usr/local/lib/python3.10/dist-packages (from matplotlib->mnist1d==0.0.2.post15) (3.1.4)\n",
            "Requirement already satisfied: python-dateutil>=2.7 in /usr/local/lib/python3.10/dist-packages (from matplotlib->mnist1d==0.0.2.post15) (2.8.2)\n",
            "Requirement already satisfied: charset-normalizer<4,>=2 in /usr/local/lib/python3.10/dist-packages (from requests->mnist1d==0.0.2.post15) (3.3.2)\n",
            "Requirement already satisfied: idna<4,>=2.5 in /usr/local/lib/python3.10/dist-packages (from requests->mnist1d==0.0.2.post15) (3.10)\n",
            "Requirement already satisfied: urllib3<3,>=1.21.1 in /usr/local/lib/python3.10/dist-packages (from requests->mnist1d==0.0.2.post15) (2.2.3)\n",
            "Requirement already satisfied: certifi>=2017.4.17 in /usr/local/lib/python3.10/dist-packages (from requests->mnist1d==0.0.2.post15) (2024.8.30)\n",
            "Requirement already satisfied: six>=1.5 in /usr/local/lib/python3.10/dist-packages (from python-dateutil>=2.7->matplotlib->mnist1d==0.0.2.post15) (1.16.0)\n",
            "Building wheels for collected packages: mnist1d\n",
            "  Building wheel for mnist1d (pyproject.toml) ... \u001b[?25l\u001b[?25hdone\n",
            "  Created wheel for mnist1d: filename=mnist1d-0.0.2.post15-py3-none-any.whl size=14561 sha256=648bff5600ee2339d383cb3c016ab01db59e796405da59d840ce8e03ae5e6bad\n",
            "  Stored in directory: /tmp/pip-ephem-wheel-cache-fvgmqfx7/wheels/41/95/55/45fcf7d38cfa97e35682da6c5017d4513729131326ce935371\n",
            "Successfully built mnist1d\n",
            "Installing collected packages: mnist1d\n",
            "Successfully installed mnist1d-0.0.2.post15\n"
          ]
        }
      ],
      "source": [
        "# Run this if you're in a Colab to install MNIST 1D repository\n",
        "%pip install git+https://github.com/greydanus/mnist1d"
      ]
    },
    {
      "cell_type": "code",
      "execution_count": 7,
      "metadata": {
        "id": "qyE7G1StPIqO"
      },
      "outputs": [],
      "source": [
        "import torch, torch.nn as nn\n",
        "from torch.utils.data import TensorDataset, DataLoader\n",
        "from torch.optim.lr_scheduler import StepLR\n",
        "import numpy as np\n",
        "import matplotlib.pyplot as plt\n",
        "import mnist1d"
      ]
    },
    {
      "cell_type": "markdown",
      "metadata": {
        "id": "F7LNq72SP6jO"
      },
      "source": [
        "Let's generate a training and test dataset using the MNIST1D code.  The dataset gets saved as a .pkl file so it doesn't have to be regenerated each time."
      ]
    },
    {
      "cell_type": "code",
      "execution_count": 8,
      "metadata": {
        "id": "YLxf7dJfPaqw",
        "colab": {
          "base_uri": "https://localhost:8080/"
        },
        "outputId": "c3261459-3579-4a00-9ed8-9df0a8fcdc34"
      },
      "outputs": [
        {
          "output_type": "stream",
          "name": "stdout",
          "text": [
            "Did or could not load data from ./mnist1d_data.pkl. Rebuilding dataset...\n",
            "Examples in training set: 4000\n",
            "Examples in test set: 1000\n",
            "Length of each example: 40\n"
          ]
        }
      ],
      "source": [
        "args = mnist1d.data.get_dataset_args()\n",
        "data = mnist1d.data.get_dataset(args, path='./mnist1d_data.pkl', download=False, regenerate=False)\n",
        "\n",
        "# The training and test input and outputs are in\n",
        "# data['x'], data['y'], data['x_test'], and data['y_test']\n",
        "print(\"Examples in training set: {}\".format(len(data['y'])))\n",
        "print(\"Examples in test set: {}\".format(len(data['y_test'])))\n",
        "print(\"Length of each example: {}\".format(data['x'].shape[-1]))"
      ]
    },
    {
      "cell_type": "code",
      "execution_count": 9,
      "metadata": {
        "id": "FxaB5vc0uevl",
        "colab": {
          "base_uri": "https://localhost:8080/"
        },
        "outputId": "bb9ab722-c399-4458-d249-aab95e0175e9"
      },
      "outputs": [
        {
          "output_type": "stream",
          "name": "stdout",
          "text": [
            "Initializing layer\n",
            "Initializing layer\n",
            "Initializing layer\n",
            "Initializing layer\n",
            "Initializing layer\n",
            "Initializing layer\n"
          ]
        },
        {
          "output_type": "execute_result",
          "data": {
            "text/plain": [
              "Sequential(\n",
              "  (0): Linear(in_features=40, out_features=100, bias=True)\n",
              "  (1): ReLU()\n",
              "  (2): Linear(in_features=100, out_features=100, bias=True)\n",
              "  (3): ReLU()\n",
              "  (4): Linear(in_features=100, out_features=10, bias=True)\n",
              ")"
            ]
          },
          "metadata": {},
          "execution_count": 9
        }
      ],
      "source": [
        "D_i = 40    # Input dimensions\n",
        "D_k = 100   # Hidden dimensions\n",
        "D_o = 10    # Output dimensions\n",
        "# TO DO:\n",
        "# Define a model with two hidden layers of size 100\n",
        "# And ReLU activations between them\n",
        "# Replace this line (see Figure 7.8 of book for help):\n",
        "model = nn.Sequential(\n",
        "    nn.Linear(D_i, D_k),   # First hidden layer\n",
        "    nn.ReLU(),             # Activation after first hidden layer\n",
        "    nn.Linear(D_k, D_k),   # Second hidden layer\n",
        "    nn.ReLU(),             # Activation after second hidden layer\n",
        "    nn.Linear(D_k, D_o)    # Output layer\n",
        ")\n",
        "\n",
        "\n",
        "def weights_init(layer_in):\n",
        "  # TO DO:\n",
        "  if isinstance(layer_in, nn.Linear):\n",
        "    nn.init.kaiming_normal_(layer_in.weight)\n",
        "    layer_in.bias.data.fill_(0.0)\n",
        "  # Initialize the parameters with He initialization\n",
        "  # Replace this line (see figure 7.8 of book for help)\n",
        "  print(\"Initializing layer\")\n",
        "\n",
        "\n",
        "# Call the function you just defined\n",
        "model.apply(weights_init)\n"
      ]
    },
    {
      "cell_type": "code",
      "execution_count": 10,
      "metadata": {
        "id": "_rX6N3VyyQTY",
        "colab": {
          "base_uri": "https://localhost:8080/"
        },
        "outputId": "d224e725-b0a3-4360-c80d-35a1860cb3b4"
      },
      "outputs": [
        {
          "output_type": "stream",
          "name": "stdout",
          "text": [
            "Initializing layer\n",
            "Initializing layer\n",
            "Initializing layer\n",
            "Initializing layer\n",
            "Initializing layer\n",
            "Initializing layer\n",
            "Epoch     0, train loss 1.590108, train error 61.17,  test loss 1.688385, test error 65.70\n",
            "Epoch     1, train loss 1.356155, train error 51.03,  test loss 1.520759, test error 61.30\n",
            "Epoch     2, train loss 1.195764, train error 44.62,  test loss 1.438411, test error 57.00\n",
            "Epoch     3, train loss 1.001726, train error 34.80,  test loss 1.245031, test error 47.50\n",
            "Epoch     4, train loss 0.919992, train error 33.32,  test loss 1.218401, test error 46.40\n",
            "Epoch     5, train loss 0.816977, train error 29.50,  test loss 1.176557, test error 44.40\n",
            "Epoch     6, train loss 0.724956, train error 25.68,  test loss 1.135587, test error 42.50\n",
            "Epoch     7, train loss 0.665058, train error 22.07,  test loss 1.137948, test error 43.00\n",
            "Epoch     8, train loss 0.586014, train error 19.25,  test loss 1.143566, test error 42.40\n",
            "Epoch     9, train loss 0.536076, train error 17.57,  test loss 1.157298, test error 41.20\n",
            "Epoch    10, train loss 0.444405, train error 13.43,  test loss 1.076719, test error 38.90\n",
            "Epoch    11, train loss 0.407272, train error 11.65,  test loss 1.109449, test error 40.80\n",
            "Epoch    12, train loss 0.353886, train error 9.55,  test loss 1.102222, test error 38.60\n",
            "Epoch    13, train loss 0.322877, train error 8.20,  test loss 1.117252, test error 38.70\n",
            "Epoch    14, train loss 0.303032, train error 7.88,  test loss 1.113132, test error 35.90\n",
            "Epoch    15, train loss 0.277574, train error 7.28,  test loss 1.117311, test error 36.30\n",
            "Epoch    16, train loss 0.252008, train error 5.78,  test loss 1.156308, test error 37.10\n",
            "Epoch    17, train loss 0.223759, train error 4.30,  test loss 1.140837, test error 36.60\n",
            "Epoch    18, train loss 0.211804, train error 4.00,  test loss 1.168732, test error 37.00\n",
            "Epoch    19, train loss 0.185848, train error 3.12,  test loss 1.231197, test error 37.50\n",
            "Epoch    20, train loss 0.167138, train error 2.47,  test loss 1.185418, test error 37.10\n",
            "Epoch    21, train loss 0.151759, train error 1.62,  test loss 1.209015, test error 36.50\n",
            "Epoch    22, train loss 0.141771, train error 1.43,  test loss 1.213048, test error 37.00\n",
            "Epoch    23, train loss 0.132245, train error 1.00,  test loss 1.221827, test error 36.80\n",
            "Epoch    24, train loss 0.127681, train error 1.07,  test loss 1.230494, test error 36.80\n",
            "Epoch    25, train loss 0.121482, train error 0.97,  test loss 1.251395, test error 36.30\n",
            "Epoch    26, train loss 0.112901, train error 0.50,  test loss 1.253253, test error 35.90\n",
            "Epoch    27, train loss 0.107660, train error 0.57,  test loss 1.267354, test error 36.20\n",
            "Epoch    28, train loss 0.101617, train error 0.38,  test loss 1.276762, test error 36.20\n",
            "Epoch    29, train loss 0.096180, train error 0.38,  test loss 1.287074, test error 36.90\n",
            "Epoch    30, train loss 0.091637, train error 0.25,  test loss 1.285355, test error 35.60\n",
            "Epoch    31, train loss 0.089386, train error 0.25,  test loss 1.290938, test error 36.10\n",
            "Epoch    32, train loss 0.087128, train error 0.22,  test loss 1.298883, test error 36.20\n",
            "Epoch    33, train loss 0.085044, train error 0.18,  test loss 1.304377, test error 36.50\n",
            "Epoch    34, train loss 0.083559, train error 0.18,  test loss 1.313453, test error 36.80\n",
            "Epoch    35, train loss 0.081365, train error 0.18,  test loss 1.314883, test error 36.10\n",
            "Epoch    36, train loss 0.079955, train error 0.15,  test loss 1.324559, test error 35.80\n",
            "Epoch    37, train loss 0.077335, train error 0.15,  test loss 1.320426, test error 36.00\n",
            "Epoch    38, train loss 0.075454, train error 0.10,  test loss 1.329287, test error 35.90\n",
            "Epoch    39, train loss 0.073916, train error 0.12,  test loss 1.344731, test error 36.70\n",
            "Epoch    40, train loss 0.072919, train error 0.15,  test loss 1.336510, test error 36.40\n",
            "Epoch    41, train loss 0.071642, train error 0.10,  test loss 1.341371, test error 36.00\n",
            "Epoch    42, train loss 0.070898, train error 0.07,  test loss 1.343119, test error 35.90\n",
            "Epoch    43, train loss 0.070075, train error 0.07,  test loss 1.346458, test error 36.50\n",
            "Epoch    44, train loss 0.069264, train error 0.07,  test loss 1.349919, test error 36.00\n",
            "Epoch    45, train loss 0.068580, train error 0.07,  test loss 1.348316, test error 36.40\n",
            "Epoch    46, train loss 0.067744, train error 0.10,  test loss 1.354753, test error 36.20\n",
            "Epoch    47, train loss 0.067151, train error 0.07,  test loss 1.357788, test error 36.30\n",
            "Epoch    48, train loss 0.066439, train error 0.03,  test loss 1.357904, test error 36.10\n",
            "Epoch    49, train loss 0.065830, train error 0.03,  test loss 1.362079, test error 36.40\n"
          ]
        }
      ],
      "source": [
        "# choose cross entropy loss function (equation 5.24)\n",
        "loss_function = torch.nn.CrossEntropyLoss()\n",
        "# construct SGD optimizer and initialize learning rate and momentum\n",
        "optimizer = torch.optim.SGD(model.parameters(), lr = 0.05, momentum=0.9)\n",
        "# object that decreases learning rate by half every 10 epochs\n",
        "scheduler = StepLR(optimizer, step_size=10, gamma=0.5)\n",
        "x_train = torch.tensor(data['x'].astype('float32'))\n",
        "y_train = torch.tensor(data['y'].transpose().astype('int64'))\n",
        "x_test= torch.tensor(data['x_test'].astype('float32'))\n",
        "y_test = torch.tensor(data['y_test'].astype('int64'))\n",
        "\n",
        "# load the data into a class that creates the batches\n",
        "data_loader = DataLoader(TensorDataset(x_train,y_train), batch_size=100, shuffle=True, worker_init_fn=np.random.seed(1))\n",
        "\n",
        "# Initialize model weights\n",
        "model.apply(weights_init)\n",
        "\n",
        "# loop over the dataset n_epoch times\n",
        "n_epoch = 50\n",
        "# store the loss and the % correct at each epoch\n",
        "losses_train = np.zeros((n_epoch))\n",
        "errors_train = np.zeros((n_epoch))\n",
        "losses_test = np.zeros((n_epoch))\n",
        "errors_test = np.zeros((n_epoch))\n",
        "\n",
        "for epoch in range(n_epoch):\n",
        "  # loop over batches\n",
        "  for i, batch in enumerate(data_loader):\n",
        "    # retrieve inputs and labels for this batch\n",
        "    x_batch, y_batch = batch\n",
        "    # zero the parameter gradients\n",
        "    optimizer.zero_grad()\n",
        "    # forward pass -- calculate model output\n",
        "    pred = model(x_batch)\n",
        "    # compute the loss\n",
        "    loss = loss_function(pred, y_batch)\n",
        "    # backward pass\n",
        "    loss.backward()\n",
        "    # SGD update\n",
        "    optimizer.step()\n",
        "\n",
        "  # Run whole dataset to get statistics -- normally wouldn't do this\n",
        "  pred_train = model(x_train)\n",
        "  pred_test = model(x_test)\n",
        "  _, predicted_train_class = torch.max(pred_train.data, 1)\n",
        "  _, predicted_test_class = torch.max(pred_test.data, 1)\n",
        "  errors_train[epoch] = 100 - 100 * (predicted_train_class == y_train).float().sum() / len(y_train)\n",
        "  errors_test[epoch]= 100 - 100 * (predicted_test_class == y_test).float().sum() / len(y_test)\n",
        "  losses_train[epoch] = loss_function(pred_train, y_train).item()\n",
        "  losses_test[epoch]= loss_function(pred_test, y_test).item()\n",
        "  print(f'Epoch {epoch:5d}, train loss {losses_train[epoch]:.6f}, train error {errors_train[epoch]:3.2f},  test loss {losses_test[epoch]:.6f}, test error {errors_test[epoch]:3.2f}')\n",
        "\n",
        "  # tell scheduler to consider updating learning rate\n",
        "  scheduler.step()"
      ]
    },
    {
      "cell_type": "code",
      "source": [
        "# MY ATTEMPT AT MAKING MORE EFFICIENT... CLOSE BUT DIDN'T MAKE MORE EFFICIENT\n",
        "\n",
        "import torch\n",
        "import torch.nn as nn\n",
        "import numpy as np\n",
        "from torch.utils.data import DataLoader, TensorDataset\n",
        "from torch.optim import SGD\n",
        "from torch.optim.lr_scheduler import StepLR\n",
        "\n",
        "# Parameters\n",
        "D_i = 40    # Input dimensions\n",
        "D_k = 100   # Hidden dimensions\n",
        "D_o = 10    # Output dimensions\n",
        "\n",
        "# Define a simple model\n",
        "class SimpleModel(nn.Module):\n",
        "    def __init__(self):\n",
        "        super(SimpleModel, self).__init__()\n",
        "        self.fc1 = nn.Linear(D_i, D_k)\n",
        "        self.relu1 = nn.ReLU()\n",
        "        self.fc2 = nn.Linear(D_k, D_k)\n",
        "        self.relu2 = nn.ReLU()\n",
        "        self.fc3 = nn.Linear(D_k, D_o)\n",
        "\n",
        "    def forward(self, x):\n",
        "        x = self.fc1(x)\n",
        "        x = self.relu1(x)\n",
        "        x = self.fc2(x)\n",
        "        x = self.relu2(x)\n",
        "        x = self.fc3(x)\n",
        "        return x\n",
        "\n",
        "# Initialize model\n",
        "model = SimpleModel()\n",
        "\n",
        "# Choose cross-entropy loss function\n",
        "loss_function = nn.CrossEntropyLoss()\n",
        "\n",
        "# Use SGD optimizer with original learning rate\n",
        "optimizer = SGD(model.parameters(), lr=0.05, momentum=0.9)\n",
        "\n",
        "# Learning rate scheduler\n",
        "scheduler = StepLR(optimizer, step_size=10, gamma=0.5)\n",
        "\n",
        "# Load your data\n",
        "x_train = torch.tensor(data['x'].astype('float32'))\n",
        "y_train = torch.tensor(data['y'].transpose().astype('int64'))\n",
        "x_test = torch.tensor(data['x_test'].astype('float32'))\n",
        "y_test = torch.tensor(data['y_test'].astype('int64'))\n",
        "\n",
        "# DataLoader with original batch size\n",
        "data_loader = DataLoader(TensorDataset(x_train, y_train), batch_size=100, shuffle=True)\n",
        "\n",
        "# Training parameters\n",
        "n_epoch = 50\n",
        "losses_train = np.zeros((n_epoch))\n",
        "errors_train = np.zeros((n_epoch))\n",
        "losses_test = np.zeros((n_epoch))\n",
        "errors_test = np.zeros((n_epoch))\n",
        "\n",
        "for epoch in range(n_epoch):\n",
        "    model.train()  # Set model to training mode\n",
        "    for i, batch in enumerate(data_loader):\n",
        "        x_batch, y_batch = batch\n",
        "        optimizer.zero_grad()\n",
        "        pred = model(x_batch)\n",
        "        loss = loss_function(pred, y_batch)\n",
        "        loss.backward()\n",
        "        optimizer.step()\n",
        "\n",
        "    model.eval()  # Set model to evaluation mode\n",
        "    with torch.no_grad():\n",
        "        pred_train = model(x_train)\n",
        "        pred_test = model(x_test)\n",
        "        _, predicted_train_class = torch.max(pred_train.data, 1)\n",
        "        _, predicted_test_class = torch.max(pred_test.data, 1)\n",
        "        errors_train[epoch] = 100 - 100 * (predicted_train_class == y_train).float().sum() / len(y_train)\n",
        "        errors_test[epoch] = 100 - 100 * (predicted_test_class == y_test).float().sum() / len(y_test)\n",
        "        losses_train[epoch] = loss_function(pred_train, y_train).item()\n",
        "        losses_test[epoch] = loss_function(pred_test, y_test).item()\n",
        "\n",
        "    print(f'Epoch {epoch:5d}, train loss {losses_train[epoch]:.6f}, train error {errors_train[epoch]:3.2f}, test loss {losses_test[epoch]:.6f}, test error {errors_test[epoch]:3.2f}')\n",
        "\n",
        "    # Step the learning rate scheduler\n",
        "    scheduler.step()\n"
      ],
      "metadata": {
        "colab": {
          "base_uri": "https://localhost:8080/"
        },
        "id": "vtsr8AwqxfLa",
        "outputId": "a1936610-f1df-4e45-db77-2cd7e5ae6159"
      },
      "execution_count": 15,
      "outputs": [
        {
          "output_type": "stream",
          "name": "stdout",
          "text": [
            "Epoch     0, train loss 1.775153, train error 71.38, test loss 1.774840, test error 73.40\n",
            "Epoch     1, train loss 1.581490, train error 62.47, test loss 1.624370, test error 67.00\n",
            "Epoch     2, train loss 1.410062, train error 56.42, test loss 1.442977, test error 59.00\n",
            "Epoch     3, train loss 1.287085, train error 48.72, test loss 1.357993, test error 53.90\n",
            "Epoch     4, train loss 1.257904, train error 50.12, test loss 1.365630, test error 55.50\n",
            "Epoch     5, train loss 1.131184, train error 41.72, test loss 1.244650, test error 48.80\n",
            "Epoch     6, train loss 1.079614, train error 40.62, test loss 1.206061, test error 47.30\n",
            "Epoch     7, train loss 0.984594, train error 36.97, test loss 1.174948, test error 45.40\n",
            "Epoch     8, train loss 0.941142, train error 35.50, test loss 1.162970, test error 44.90\n",
            "Epoch     9, train loss 0.875063, train error 32.90, test loss 1.146149, test error 45.20\n",
            "Epoch    10, train loss 0.758737, train error 27.50, test loss 1.046434, test error 40.40\n",
            "Epoch    11, train loss 0.723010, train error 25.60, test loss 1.035648, test error 41.30\n",
            "Epoch    12, train loss 0.699508, train error 24.82, test loss 1.046002, test error 40.50\n",
            "Epoch    13, train loss 0.662582, train error 22.93, test loss 1.059834, test error 40.90\n",
            "Epoch    14, train loss 0.627658, train error 21.80, test loss 1.027711, test error 39.70\n",
            "Epoch    15, train loss 0.604390, train error 20.40, test loss 1.052440, test error 40.40\n",
            "Epoch    16, train loss 0.605914, train error 20.97, test loss 1.090361, test error 41.00\n",
            "Epoch    17, train loss 0.577961, train error 19.75, test loss 1.066395, test error 40.90\n",
            "Epoch    18, train loss 0.550923, train error 18.88, test loss 1.082857, test error 40.30\n",
            "Epoch    19, train loss 0.515732, train error 17.22, test loss 1.071349, test error 39.60\n",
            "Epoch    20, train loss 0.479319, train error 15.38, test loss 1.069219, test error 40.30\n",
            "Epoch    21, train loss 0.459937, train error 14.18, test loss 1.040203, test error 38.60\n",
            "Epoch    22, train loss 0.454662, train error 14.80, test loss 1.070044, test error 37.60\n",
            "Epoch    23, train loss 0.437491, train error 13.43, test loss 1.053044, test error 37.80\n",
            "Epoch    24, train loss 0.433078, train error 13.18, test loss 1.055671, test error 38.50\n",
            "Epoch    25, train loss 0.414984, train error 12.47, test loss 1.080461, test error 38.80\n",
            "Epoch    26, train loss 0.404182, train error 12.18, test loss 1.089060, test error 38.90\n",
            "Epoch    27, train loss 0.397192, train error 12.40, test loss 1.080238, test error 38.60\n",
            "Epoch    28, train loss 0.378266, train error 11.20, test loss 1.097874, test error 39.10\n",
            "Epoch    29, train loss 0.365192, train error 10.47, test loss 1.088417, test error 38.80\n",
            "Epoch    30, train loss 0.353923, train error 9.97, test loss 1.100730, test error 37.60\n",
            "Epoch    31, train loss 0.346067, train error 9.68, test loss 1.084140, test error 37.60\n",
            "Epoch    32, train loss 0.338212, train error 9.35, test loss 1.094139, test error 37.60\n",
            "Epoch    33, train loss 0.333028, train error 9.18, test loss 1.104346, test error 37.50\n",
            "Epoch    34, train loss 0.326346, train error 9.00, test loss 1.102681, test error 38.90\n",
            "Epoch    35, train loss 0.321731, train error 8.70, test loss 1.111682, test error 37.70\n",
            "Epoch    36, train loss 0.324662, train error 9.38, test loss 1.120957, test error 37.50\n",
            "Epoch    37, train loss 0.315003, train error 8.62, test loss 1.118891, test error 37.10\n",
            "Epoch    38, train loss 0.304258, train error 8.00, test loss 1.124207, test error 37.30\n",
            "Epoch    39, train loss 0.299143, train error 7.95, test loss 1.127568, test error 37.80\n",
            "Epoch    40, train loss 0.293572, train error 7.72, test loss 1.125375, test error 37.90\n",
            "Epoch    41, train loss 0.290636, train error 7.68, test loss 1.125917, test error 37.90\n",
            "Epoch    42, train loss 0.292658, train error 7.82, test loss 1.134950, test error 38.30\n",
            "Epoch    43, train loss 0.286276, train error 7.05, test loss 1.127429, test error 37.30\n",
            "Epoch    44, train loss 0.286486, train error 7.28, test loss 1.142956, test error 37.50\n",
            "Epoch    45, train loss 0.281208, train error 7.30, test loss 1.142566, test error 37.50\n",
            "Epoch    46, train loss 0.277345, train error 6.93, test loss 1.135648, test error 37.70\n",
            "Epoch    47, train loss 0.276752, train error 7.05, test loss 1.136938, test error 37.70\n",
            "Epoch    48, train loss 0.273330, train error 6.60, test loss 1.143103, test error 38.30\n",
            "Epoch    49, train loss 0.271402, train error 6.60, test loss 1.146762, test error 38.10\n"
          ]
        }
      ]
    },
    {
      "cell_type": "code",
      "execution_count": 16,
      "metadata": {
        "id": "yI-l6kA_EH9G",
        "colab": {
          "base_uri": "https://localhost:8080/",
          "height": 927
        },
        "outputId": "15e191f4-3268-4fb5-ff5f-d7c79fc48382"
      },
      "outputs": [
        {
          "output_type": "display_data",
          "data": {
            "text/plain": [
              "<Figure size 640x480 with 1 Axes>"
            ],
            "image/png": "[encoded data removed]"
          },
          "metadata": {}
        },
        {
          "output_type": "display_data",
          "data": {
            "text/plain": [
              "<Figure size 640x480 with 1 Axes>"
            ],
            "image/png": "[encoded data removed]"
          },
          "metadata": {}
        }
      ],
      "source": [
        "# Plot the results\n",
        "fig, ax = plt.subplots()\n",
        "ax.plot(errors_train,'r-',label='train')\n",
        "ax.plot(errors_test,'b-',label='test')\n",
        "ax.set_ylim(0,100); ax.set_xlim(0,n_epoch)\n",
        "ax.set_xlabel('Epoch'); ax.set_ylabel('Error')\n",
        "ax.set_title('TrainError %3.2f, Test Error %3.2f'%(errors_train[-1],errors_test[-1]))\n",
        "ax.legend()\n",
        "plt.show()\n",
        "\n",
        "# Plot the results\n",
        "fig, ax = plt.subplots()\n",
        "ax.plot(losses_train,'r-',label='train')\n",
        "ax.plot(losses_test,'b-',label='test')\n",
        "ax.set_xlim(0,n_epoch)\n",
        "ax.set_xlabel('Epoch'); ax.set_ylabel('Loss')\n",
        "ax.set_title('Train loss %3.2f, Test loss %3.2f'%(losses_train[-1],losses_test[-1]))\n",
        "ax.legend()\n",
        "plt.show()"
      ]
    },
    {
      "cell_type": "markdown",
      "metadata": {
        "id": "q-yT6re6GZS4"
      },
      "source": [
        "**TO DO**\n",
        "\n",
        "Play with the model -- try changing the number of layers, hidden units, learning rate, batch size, momentum or anything else you like.  See if you can improve the test results.\n",
        "\n",
        "Is it a good idea to optimize the hyperparameters in this way?  Will the final result be a good estimate of the true test performance?\n",
        "\n",
        "Adjusting hyperparamters manually may take up some time especially if you have very many and are doing one at a time. I believe if you determine what direction you should be heading with a hyperparameter you may be able to automate it to find the optimal value. You will also have to adjust at small increments so you know how the model is affected as a whole.\n",
        "\n",
        "To determine if the final result is a good estimate of the true test performance you have to consider how well it does with both a test set and training set. Given that the test set performs well that is usually a good indicator but you also have to compare training and test errors to ensure there is no overfitting. However, usually the performance of the test set and training set can be a good indicator if the final result is a good estimate of the true test performance."
      ]
    }
  ],
  "metadata": {
    "accelerator": "GPU",
    "colab": {
      "gpuType": "T4",
      "provenance": [],
      "include_colab_link": true
    },
    "kernelspec": {
      "display_name": "Python 3",
      "name": "python3"
    },
    "language_info": {
      "name": "python"
    }
  },
  "nbformat": 4,
  "nbformat_minor": 0
}